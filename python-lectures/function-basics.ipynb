{
 "cells": [
  {
   "cell_type": "markdown",
   "metadata": {},
   "source": [
    "# Function Basics\n",
    "\n",
    "Here, we learn the usage of functions in Python. Functions are generally used to make your code slimmer by seperating functional parts, which can be re-used over and over again. Like in mathematical functions, there are function arguments that can be given to the function. The function can also return one or multiple variables."
   ]
  },
  {
   "cell_type": "markdown",
   "metadata": {},
   "source": [
    "## Simplest example of a function\n",
    "\n",
    "As usual, a \"hello world\" example provides the simplest example of a function"
   ]
  },
  {
   "cell_type": "code",
   "execution_count": 1,
   "metadata": {
    "ExecuteTime": {
     "end_time": "2016-10-24T16:08:43.229034",
     "start_time": "2016-10-24T16:08:43.222515"
    },
    "collapsed": true
   },
   "outputs": [],
   "source": [
    "def hello_world():\n",
    "    print(\"Hello world!\")"
   ]
  },
  {
   "cell_type": "markdown",
   "metadata": {},
   "source": [
    "Every function is defined through the keyword `def` followed by the function name `hello_world()` with parentheses and a colon. All the function does is to print \"Hello world!\". Note that everything that is in the function has to be indented. Applying the defined function is by calling it. See below."
   ]
  },
  {
   "cell_type": "code",
   "execution_count": 2,
   "metadata": {
    "ExecuteTime": {
     "end_time": "2016-10-24T16:17:27.457499",
     "start_time": "2016-10-24T16:17:27.453951"
    },
    "collapsed": false
   },
   "outputs": [
    {
     "name": "stdout",
     "output_type": "stream",
     "text": [
      "Hello world!\n"
     ]
    }
   ],
   "source": [
    "hello_world()"
   ]
  },
  {
   "cell_type": "markdown",
   "metadata": {},
   "source": [
    "Sometimes you want store the output of a function. Let us do exactly that with our previously defined function."
   ]
  },
  {
   "cell_type": "code",
   "execution_count": 3,
   "metadata": {
    "ExecuteTime": {
     "end_time": "2016-10-24T16:18:31.411721",
     "start_time": "2016-10-24T16:18:31.405662"
    },
    "collapsed": false
   },
   "outputs": [
    {
     "name": "stdout",
     "output_type": "stream",
     "text": [
      "Hello world!\n"
     ]
    }
   ],
   "source": [
    "func_var = hello_world()"
   ]
  },
  {
   "cell_type": "markdown",
   "metadata": {},
   "source": [
    "The output seems to be exactly the same, but we have not used `func_var` yet."
   ]
  },
  {
   "cell_type": "code",
   "execution_count": 4,
   "metadata": {
    "ExecuteTime": {
     "end_time": "2016-10-24T16:25:06.728408",
     "start_time": "2016-10-24T16:25:06.724622"
    },
    "collapsed": false
   },
   "outputs": [
    {
     "name": "stdout",
     "output_type": "stream",
     "text": [
      "None\n"
     ]
    }
   ],
   "source": [
    "print(func_var)"
   ]
  },
  {
   "cell_type": "markdown",
   "metadata": {},
   "source": [
    "Now this is surprising! The variable `func_var` has the value `None`. How come? Our defined function has nothing to return, since `print` is a function on its own. Therefore, Python automatically returns `None` if nothing else is returned by the function."
   ]
  },
  {
   "cell_type": "markdown",
   "metadata": {},
   "source": [
    "## Function return\n",
    "\n",
    "So, how can we assign a return to a function? Simply type `return` together with what you want to return from the function. Let us rewrite our function."
   ]
  },
  {
   "cell_type": "code",
   "execution_count": 11,
   "metadata": {
    "ExecuteTime": {
     "end_time": "2016-10-24T21:46:32.633901",
     "start_time": "2016-10-24T21:46:32.629954"
    },
    "collapsed": true
   },
   "outputs": [],
   "source": [
    "def hello_world():\n",
    "    return \"Hello world!\""
   ]
  },
  {
   "cell_type": "markdown",
   "metadata": {},
   "source": [
    "We do not use the `print` function anymore, but rather the function returns the string \"Hello world!\". Now let us the function."
   ]
  },
  {
   "cell_type": "code",
   "execution_count": 12,
   "metadata": {
    "ExecuteTime": {
     "end_time": "2016-10-24T21:46:34.967422",
     "start_time": "2016-10-24T21:46:34.963531"
    },
    "collapsed": false
   },
   "outputs": [
    {
     "name": "stdout",
     "output_type": "stream",
     "text": [
      "Hello world!\n"
     ]
    }
   ],
   "source": [
    "func_var = hello_world()\n",
    "print(func_var)"
   ]
  },
  {
   "cell_type": "markdown",
   "metadata": {},
   "source": [
    "Finally, the output is the same is in the beginning. Note that if you use return in a function, you have to use the function assigned a variable that takes the return. Furthermore, a function can return multiple variables. Note that these have to be declared as such."
   ]
  },
  {
   "cell_type": "code",
   "execution_count": 31,
   "metadata": {
    "ExecuteTime": {
     "end_time": "2016-10-24T22:39:41.328839",
     "start_time": "2016-10-24T22:39:41.324136"
    },
    "collapsed": false
   },
   "outputs": [
    {
     "name": "stdout",
     "output_type": "stream",
     "text": [
      "1 2 3\n"
     ]
    }
   ],
   "source": [
    "def get_one_two_three():\n",
    "    return 1, 2, 3\n",
    "\n",
    "one, two, three = get_one_two_three()\n",
    "print(one, two, three)"
   ]
  },
  {
   "cell_type": "markdown",
   "metadata": {},
   "source": [
    "## Function arguments\n",
    "\n",
    "In order to pass arguments as an input to a function, you have to add it inside the parenthesis of the header."
   ]
  },
  {
   "cell_type": "code",
   "execution_count": 7,
   "metadata": {
    "ExecuteTime": {
     "end_time": "2016-10-24T21:22:23.801374",
     "start_time": "2016-10-24T21:22:23.798357"
    },
    "collapsed": true
   },
   "outputs": [],
   "source": [
    "def hello_world(word):\n",
    "    print(\"Hello \" + word + \"!\")"
   ]
  },
  {
   "cell_type": "markdown",
   "metadata": {},
   "source": [
    "Now we can give a name as string to the function. This can be done explicit or implicit through a variable, which can be named arbitrarily."
   ]
  },
  {
   "cell_type": "code",
   "execution_count": 8,
   "metadata": {
    "ExecuteTime": {
     "end_time": "2016-10-24T21:32:25.280976",
     "start_time": "2016-10-24T21:32:25.272385"
    },
    "collapsed": false
   },
   "outputs": [
    {
     "name": "stdout",
     "output_type": "stream",
     "text": [
      "Hello World!\n",
      "Hello Paul!\n",
      "Hello Sun!\n"
     ]
    }
   ],
   "source": [
    "hello_world(\"World\")\n",
    "name = \"Paul\"\n",
    "hello_world(name)\n",
    "word = \"Sun\"\n",
    "hello_world(word)"
   ]
  },
  {
   "cell_type": "markdown",
   "metadata": {},
   "source": [
    "Arguments do not have to be defined specifically, but the usage is limited by the function definition itself. In our function, we intent `word` to be a string. So, if we give it an integer or floating point variable, there will be an error message."
   ]
  },
  {
   "cell_type": "code",
   "execution_count": 9,
   "metadata": {
    "ExecuteTime": {
     "end_time": "2016-10-24T21:36:05.309768",
     "start_time": "2016-10-24T21:36:05.216400"
    },
    "collapsed": false
   },
   "outputs": [
    {
     "ename": "TypeError",
     "evalue": "Can't convert 'float' object to str implicitly",
     "output_type": "error",
     "traceback": [
      "\u001b[0;31m---------------------------------------------------------------------------\u001b[0m",
      "\u001b[0;31mTypeError\u001b[0m                                 Traceback (most recent call last)",
      "\u001b[0;32m<ipython-input-9-affde3be69cf>\u001b[0m in \u001b[0;36m<module>\u001b[0;34m()\u001b[0m\n\u001b[0;32m----> 1\u001b[0;31m \u001b[0mhello_world\u001b[0m\u001b[0;34m(\u001b[0m\u001b[0;36m3.2\u001b[0m\u001b[0;34m)\u001b[0m\u001b[0;34m\u001b[0m\u001b[0m\n\u001b[0m\u001b[1;32m      2\u001b[0m \u001b[0mhello_world\u001b[0m\u001b[0;34m(\u001b[0m\u001b[0;36m42\u001b[0m\u001b[0;34m)\u001b[0m\u001b[0;34m\u001b[0m\u001b[0m\n",
      "\u001b[0;32m<ipython-input-7-03800bb5aefc>\u001b[0m in \u001b[0;36mhello_world\u001b[0;34m(name)\u001b[0m\n\u001b[1;32m      1\u001b[0m \u001b[0;32mdef\u001b[0m \u001b[0mhello_world\u001b[0m\u001b[0;34m(\u001b[0m\u001b[0mname\u001b[0m\u001b[0;34m)\u001b[0m\u001b[0;34m:\u001b[0m\u001b[0;34m\u001b[0m\u001b[0m\n\u001b[0;32m----> 2\u001b[0;31m     \u001b[0mprint\u001b[0m\u001b[0;34m(\u001b[0m\u001b[0;34m\"Hello \"\u001b[0m \u001b[0;34m+\u001b[0m \u001b[0mname\u001b[0m \u001b[0;34m+\u001b[0m \u001b[0;34m\"!\"\u001b[0m\u001b[0;34m)\u001b[0m\u001b[0;34m\u001b[0m\u001b[0m\n\u001b[0m",
      "\u001b[0;31mTypeError\u001b[0m: Can't convert 'float' object to str implicitly"
     ]
    }
   ],
   "source": [
    "hello_world(3.2)\n",
    "hello_world(42)"
   ]
  },
  {
   "cell_type": "markdown",
   "metadata": {},
   "source": [
    "In general, like for return, the function can also take multiple arguments."
   ]
  },
  {
   "cell_type": "markdown",
   "metadata": {},
   "source": [
    "## Scopes"
   ]
  },
  {
   "cell_type": "markdown",
   "metadata": {},
   "source": [
    "Scopes are an important concept in programming, especially in Python. As you probably have noticed earlier. We have defined a variable named `word` to have the value `\"sun\"`, while our function uses the same name for its argument. This means that the function has its own local scope, in which variables can be defined. These local variables are not accessable in the global scope of the code, if not defined otherwise. Let us see an example."
   ]
  },
  {
   "cell_type": "code",
   "execution_count": 10,
   "metadata": {
    "ExecuteTime": {
     "end_time": "2016-10-24T21:42:54.619081",
     "start_time": "2016-10-24T21:42:54.615043"
    },
    "collapsed": true
   },
   "outputs": [],
   "source": [
    "def add_five_to(number):\n",
    "    five = 5\n",
    "    return number + five"
   ]
  },
  {
   "cell_type": "markdown",
   "metadata": {},
   "source": [
    "This simple function adds $5$ to a given `number`, where $5$ is stored in the local variable `five`. Now let us use the function and `five` in the main code.  "
   ]
  },
  {
   "cell_type": "code",
   "execution_count": 15,
   "metadata": {
    "ExecuteTime": {
     "end_time": "2016-10-24T21:47:24.462337",
     "start_time": "2016-10-24T21:47:24.444727"
    },
    "collapsed": false
   },
   "outputs": [
    {
     "name": "stdout",
     "output_type": "stream",
     "text": [
      "8\n"
     ]
    },
    {
     "ename": "NameError",
     "evalue": "name 'five' is not defined",
     "output_type": "error",
     "traceback": [
      "\u001b[0;31m---------------------------------------------------------------------------\u001b[0m",
      "\u001b[0;31mNameError\u001b[0m                                 Traceback (most recent call last)",
      "\u001b[0;32m<ipython-input-15-2d70ec5ab7a9>\u001b[0m in \u001b[0;36m<module>\u001b[0;34m()\u001b[0m\n\u001b[1;32m      1\u001b[0m \u001b[0mprint\u001b[0m\u001b[0;34m(\u001b[0m\u001b[0madd_five_to\u001b[0m\u001b[0;34m(\u001b[0m\u001b[0;36m3\u001b[0m\u001b[0;34m)\u001b[0m\u001b[0;34m)\u001b[0m\u001b[0;34m\u001b[0m\u001b[0m\n\u001b[0;32m----> 2\u001b[0;31m \u001b[0mprint\u001b[0m\u001b[0;34m(\u001b[0m\u001b[0mfive\u001b[0m\u001b[0;34m)\u001b[0m\u001b[0;34m\u001b[0m\u001b[0m\n\u001b[0m",
      "\u001b[0;31mNameError\u001b[0m: name 'five' is not defined"
     ]
    }
   ],
   "source": [
    "print(add_five_to(3))\n",
    "print(five)"
   ]
  },
  {
   "cell_type": "markdown",
   "metadata": {},
   "source": [
    "In order to use `five` in a global scope, we need to explicitly declare it as a global variable."
   ]
  },
  {
   "cell_type": "code",
   "execution_count": 18,
   "metadata": {
    "ExecuteTime": {
     "end_time": "2016-10-24T21:48:53.651282",
     "start_time": "2016-10-24T21:48:53.645589"
    },
    "collapsed": false
   },
   "outputs": [
    {
     "name": "stdout",
     "output_type": "stream",
     "text": [
      "8\n",
      "5\n"
     ]
    }
   ],
   "source": [
    "def add_five_to(number):\n",
    "    global five\n",
    "    five = 5\n",
    "    return number + five\n",
    "\n",
    "print(add_five_to(3))\n",
    "print(five)"
   ]
  },
  {
   "cell_type": "markdown",
   "metadata": {},
   "source": [
    "Now `five` can be used outside of the function. Of course, `five` can also already be defined globally. If this variable is then defined as global variable inside the function, any changes within the function do also affect the global variable. See this example."
   ]
  },
  {
   "cell_type": "code",
   "execution_count": 24,
   "metadata": {
    "ExecuteTime": {
     "end_time": "2016-10-24T22:17:28.919527",
     "start_time": "2016-10-24T22:17:28.914196"
    },
    "collapsed": false
   },
   "outputs": [
    {
     "name": "stdout",
     "output_type": "stream",
     "text": [
      "8\n",
      "5\n"
     ]
    }
   ],
   "source": [
    "five = 3\n",
    "def add_five_to(number):\n",
    "    global five\n",
    "    five += 2\n",
    "    return number + five\n",
    "\n",
    "print(add_five_to(3))\n",
    "print(five)"
   ]
  },
  {
   "cell_type": "markdown",
   "metadata": {},
   "source": [
    "## Keywords\n",
    "\n",
    "Keywords are function arguments that can have default values. Therefore, when calling the function, these arguments do not have to be given to the function. Furthermore, keywords can be explicitly defined. See the examples below."
   ]
  },
  {
   "cell_type": "code",
   "execution_count": 30,
   "metadata": {
    "ExecuteTime": {
     "end_time": "2016-10-24T22:36:08.561070",
     "start_time": "2016-10-24T22:36:08.554285"
    },
    "collapsed": false
   },
   "outputs": [
    {
     "name": "stdout",
     "output_type": "stream",
     "text": [
      "5\n",
      "5\n",
      "4\n",
      "-2\n"
     ]
    }
   ],
   "source": [
    "def add_to(number, this_number=0, minus_that_number=1):\n",
    "    return number + this_number - minus_that_number\n",
    "\n",
    "# Example A\n",
    "print(add_to(6))\n",
    "# Example B\n",
    "print(add_to(1,5))\n",
    "# Example C\n",
    "print(add_to(1,5,2))\n",
    "# Example D\n",
    "print(add_to(1,minus_that_number=3))"
   ]
  },
  {
   "cell_type": "markdown",
   "metadata": {},
   "source": [
    "The defined function `add_to` takes one required argument `number` and two keyword or optional arguments. The function returns the sum of the first two arguments minus the third. Let us go through each example. \n",
    "\n",
    "* **Example A:** Here we only give a $6$ as `number`. Thus, function applies the default values leading to the return $6 + 0 - 1 = 5$.  \n",
    "\n",
    "* **Example B:** Now we give two arguments (`number`$=1$, `this_number`$=5$), thus only `minus_the_number` takes the default value. This means the function returns $1+5-1 = 5$.\n",
    "\n",
    "* **Example C:** Three arguments are given and therefore the function returns $1+5-2 = 4$.\n",
    "\n",
    "* **Example D:** Finally, we give `number`$=1$ and explicitly define `minus_the_number`$=3$. The function correctly returns $1 + 0 - 3 = -2$."
   ]
  },
  {
   "cell_type": "markdown",
   "metadata": {},
   "source": [
    "## Summary\n",
    "\n",
    "<img src=\"http://hcc-cs.weebly.com/uploads/2/4/5/3/24535251/1523299_orig.png\" alt=\"Function summary sketch\" style=\"width: 500px;\"/>"
   ]
  },
  {
   "cell_type": "markdown",
   "metadata": {},
   "source": [
    "## Exercises\n",
    "\n",
    "1. Write a function, which takes the `name` and the `age` of a person. Within the function, it shall print \"Happy birthday, `name`! Wow, already `age`!\".\n",
    "2. Write a function, which determines the largest of two numbers. Make one of them default to be $0$.\n",
    "3. Write a function, which determines the largest of three numbers. Remember that functions can call other functions.\n",
    "4. Write a function for calculating factorials. Hint: Factorials are defined as $N! = N\\cdot(N-1)\\cdot(N-2)\\cdot\\ldots\\cdot1$ and note that $0! = 1$. *\"Hahaha, let the recursion flow...\"*"
   ]
  },
  {
   "cell_type": "markdown",
   "metadata": {},
   "source": [
    "## Solutions\n",
    "\n",
    "Please put them in individual cells."
   ]
  },
  {
   "cell_type": "code",
   "execution_count": null,
   "metadata": {
    "collapsed": true
   },
   "outputs": [],
   "source": []
  }
 ],
 "metadata": {
  "kernelspec": {
   "display_name": "Python 3",
   "language": "python",
   "name": "python3"
  },
  "language_info": {
   "codemirror_mode": {
    "name": "ipython",
    "version": 3
   },
   "file_extension": ".py",
   "mimetype": "text/x-python",
   "name": "python",
   "nbconvert_exporter": "python",
   "pygments_lexer": "ipython3",
   "version": "3.5.1"
  },
  "latex_envs": {
   "bibliofile": "biblio.bib",
   "cite_by": "apalike",
   "current_citInitial": 1,
   "eqLabelWithNumbers": true,
   "eqNumInitial": 0
  }
 },
 "nbformat": 4,
 "nbformat_minor": 1
}
