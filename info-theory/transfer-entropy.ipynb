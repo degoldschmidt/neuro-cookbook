{
 "cells": [
  {
   "cell_type": "markdown",
   "metadata": {},
   "source": [
    "# Introducing transfer entropy as a measure of information flow"
   ]
  },
  {
   "cell_type": "markdown",
   "metadata": {},
   "source": [
    "DEFinition of conditional entropy:\n",
    "\\begin{equation}\n",
    "H(Y \\mid X) = - \\sum_j p(y_j \\mid x_i) \\ln p(y_j \\mid x_i)\n",
    "\\end{equation}\n",
    "\n",
    "DEFinition of Transfer Entropy (TE) à la Schreiber:\n",
    "\\begin{equation}\n",
    "T_{X\\rightarrow Y} = H\\left( Y_t \\mid Y_{t-1:t-L}\\right) - H\\left( Y_t \\mid Y_{t-1:t-L}, X_{t-1:t-L}\\right),\n",
    "\\end{equation}"
   ]
  },
  {
   "cell_type": "markdown",
   "metadata": {},
   "source": [
    "## Example: Biased Rock-Paper-Scissors\n",
    "\n",
    "We observe Andy, Bob and Claire playing the game of \"Rock-Paper-Scissors\". In order to examine the information flow-based measure of TE, we assume that the three players have different playing strategies, which may or may not depend on information received from other players.\n",
    "\n",
    "Andy ($A$) plays randomly, while Bob ($B$) is trying to read Andy, which is successful with a probability of $x$, otherwise Bob also plays randomly. Claire ($C$), on other hand, reads both Andy and Bob: she reads Andy with a probability of $y$, while she can detect when Bob is successful in reading Andy, therefore choosing a hand that is drawing the round. "
   ]
  },
  {
   "cell_type": "markdown",
   "metadata": {},
   "source": [
    "### Question:\n",
    "\n",
    "Each round, all three play their hand ($a_t, b_t, c_t$). We, the observers, can only read out, who is winning each round as a function of all the variables $f(a_t, b_t, c_t)$. How much information can we extract from this readout alone?"
   ]
  },
  {
   "cell_type": "code",
   "execution_count": 112,
   "metadata": {
    "ExecuteTime": {
     "end_time": "2017-03-25T15:29:25.156320",
     "start_time": "2017-03-25T15:29:25.068702"
    },
    "collapsed": false
   },
   "outputs": [],
   "source": [
    "class RPS():\n",
    "    def __init__(self, _players = []):\n",
    "        self.rock = 0\n",
    "        self.paper = 1\n",
    "        self.scissors = 2\n",
    "        self.allhands = [rock, paper, scissors]\n",
    "        self.item = [\"rock\", \"paper\", \"scissors\"]\n",
    "        self.players = _players\n",
    "        self.nwins = [0]*len(_players)\n",
    "\n",
    "    def win(self, args):\n",
    "        if len(args) > 2:\n",
    "            winners = []\n",
    "            for arg in args:\n",
    "                for arg2 in args:\n",
    "                    if arg == arg2:\n",
    "                        pass\n",
    "                    else:\n",
    "                        winners.append(win([arg, arg2]))\n",
    "            if len(list(set(winners))) == 1:\n",
    "                return winners[0]\n",
    "            else:\n",
    "                return []\n",
    "        elif len(args) == 2:\n",
    "            return args[0] if args[1]-args[0] == 0 else (0 if sum(args) == 2 else (1 if sum(args) == 1 else 2))\n",
    "        elif len(args) == 1:\n",
    "            return (args[0]+1)%3\n",
    "        else:\n",
    "            print(\"Wrong number of arguments (at least 1).\")\n",
    "            return -1\n",
    "    \n",
    "    def getAllWinners(self, winning_hand, playing_hands):\n",
    "        winners = []\n",
    "        idx = 0\n",
    "        while True: \n",
    "            try:\n",
    "                winners.append(playing_hands.index(winning_hand,idx))\n",
    "                idx = winners[-1] + 1\n",
    "            except ValueError:\n",
    "                return winners\n",
    "\n",
    "    def names(self):\n",
    "        return self.players\n",
    "            \n",
    "    def nps(self):\n",
    "        return len(self.players)\n",
    "    \n",
    "    def up(self, ind):\n",
    "        self.nwins[ind] += 1\n",
    "        \n",
    "    def play(self, hands=[]):\n",
    "        if len(hands) == 0:\n",
    "            pass\n",
    "        else:\n",
    "            if len(hands) == self.nps():\n",
    "                allWinners = getAllWinners(self.win(hands), hands)\n",
    "                #print(\"Hands:\", [self.item[hand] for hand in hands])\n",
    "                #print(\"Winners:\", [self.names()[each] for each in allWinners])\n",
    "                for each in allWinners:\n",
    "                    self.up(each)\n",
    "                #print(self.nwins)\n",
    "            else:\n",
    "                print(\"Number of hands does not match number of players\")\n",
    "        \n",
    "        "
   ]
  },
  {
   "cell_type": "code",
   "execution_count": 143,
   "metadata": {
    "ExecuteTime": {
     "end_time": "2017-03-25T16:34:28.706381",
     "start_time": "2017-03-25T16:34:28.681098"
    },
    "collapsed": true
   },
   "outputs": [],
   "source": [
    "import numpy as np\n",
    "\n",
    "class PlayerEngine():\n",
    "    def __init__(self):\n",
    "        self.obs = []\n",
    "        self.nextplay = np.random.choice([0,1,2])\n",
    "        self.thisplay = -1\n",
    "        \n",
    "    def set_observable(self, _obs):\n",
    "        self.obs.append(_obs)\n",
    "        \n",
    "    def get_win(self, hand_to_beat):\n",
    "        return (hand_to_beat+1)%3\n",
    "        \n",
    "    def play_random(self, printit=False):\n",
    "        self.thisplay = self.nextplay\n",
    "        if printit:\n",
    "            print(self.thisplay)\n",
    "        self.nextplay = np.random.choice([0,1,2])\n",
    "        return self.thisplay\n",
    "    \n",
    "    def play_semi(self, _prob):\n",
    "        rp = np.random.rand()\n",
    "        self.thisplay = self.nextplay\n",
    "        if rp < _prob:\n",
    "            if len(self.obs) > 0:\n",
    "                to_beat = self.obs[0].nextplay\n",
    "                self.nextplay = self.get_win(to_beat)\n",
    "                return self.thisplay\n",
    "            else:\n",
    "                return self.play_random()\n",
    "        else:\n",
    "            return self.play_random()\n",
    "            "
   ]
  },
  {
   "cell_type": "code",
   "execution_count": 145,
   "metadata": {
    "ExecuteTime": {
     "end_time": "2017-03-25T16:34:55.759187",
     "start_time": "2017-03-25T16:34:55.264270"
    },
    "collapsed": false
   },
   "outputs": [
    {
     "name": "stdout",
     "output_type": "stream",
     "text": [
      "[1692, 4986, 3378]\n"
     ]
    }
   ],
   "source": [
    "pnames = [\"Andy\", \"Bob\", \"Claire\"]\n",
    "myRPS = RPS(_players=pnames)\n",
    "plays = [PlayerEngine(), PlayerEngine(), PlayerEngine()]\n",
    "plays[1].set_observable(plays[0])\n",
    "nrounds = 10000\n",
    "\n",
    "for iround in range(nrounds):\n",
    "    this_round = [plays[0].play_random(), plays[1].play_semi(.5), plays[2].play_random()]\n",
    "    #print(this_round)\n",
    "    myRPS.play(this_round)\n",
    "    #print(\"\")\n",
    "print(myRPS.nwins)\n"
   ]
  },
  {
   "cell_type": "code",
   "execution_count": null,
   "metadata": {
    "collapsed": true
   },
   "outputs": [],
   "source": []
  },
  {
   "cell_type": "code",
   "execution_count": null,
   "metadata": {
    "collapsed": true
   },
   "outputs": [],
   "source": []
  }
 ],
 "metadata": {
  "kernelspec": {
   "display_name": "Python 2",
   "language": "python",
   "name": "python2"
  },
  "language_info": {
   "codemirror_mode": {
    "name": "ipython",
    "version": 2
   },
   "file_extension": ".py",
   "mimetype": "text/x-python",
   "name": "python",
   "nbconvert_exporter": "python",
   "pygments_lexer": "ipython2",
   "version": "2.7.12"
  },
  "latex_envs": {
   "bibliofile": "biblio.bib",
   "cite_by": "apalike",
   "current_citInitial": 1,
   "eqLabelWithNumbers": true,
   "eqNumInitial": 0
  }
 },
 "nbformat": 4,
 "nbformat_minor": 2
}
