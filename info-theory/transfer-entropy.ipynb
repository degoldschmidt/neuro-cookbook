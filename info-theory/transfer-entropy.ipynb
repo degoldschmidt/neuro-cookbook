{
 "cells": [
  {
   "cell_type": "markdown",
   "metadata": {},
   "source": [
    "# Introducing transfer entropy as a measure of information flow"
   ]
  },
  {
   "cell_type": "markdown",
   "metadata": {},
   "source": [
    "$T_{X\\rightarrow Y} = H\\left( Y_t \\mid Y_{t-1:t-L}\\right) - H\\left( Y_t \\mid Y_{t-1:t-L}, X_{t-1:t-L}\\right),$"
   ]
  },
  {
   "cell_type": "markdown",
   "metadata": {},
   "source": [
    "## Example: Rock-Paper-Scissor\n",
    "\n",
    "Players: Andy, Bob & Claire.\n",
    "\n",
    "Andy ($A$) plays randomly, while Bob ($B$) is trying to read Andy, which is successful with a probability of $x$, otherwise Bob also plays randomly. Claire ($C$), on other hand, reads both Andy and Bob: she reads Andy with a probability of $y$, while she can detect when Bob is successful in reading Andy, therefore choosing a hand that is drawing the round. "
   ]
  },
  {
   "cell_type": "markdown",
   "metadata": {},
   "source": [
    "Each round, all three play their hand ($a_t, b_t, c_t$). We, the observers, can only read out, who is winning each round as a function of all the variables $f(a_t, b_t, c_t)$. How much information can we extract from this readout alone?"
   ]
  },
  {
   "cell_type": "code",
   "execution_count": 2,
   "metadata": {
    "collapsed": true
   },
   "outputs": [],
   "source": [
    "rock = 0\n",
    "paper = 1\n",
    "scissor = 2\n",
    "\n",
    "def win(*args):\n",
    "    if len(args) > 2:\n",
    "        \n",
    "    return (b-a)%3"
   ]
  },
  {
   "cell_type": "code",
   "execution_count": 3,
   "metadata": {
    "collapsed": false
   },
   "outputs": [
    {
     "ename": "TypeError",
     "evalue": "win() missing 1 required positional argument: 'c'",
     "output_type": "error",
     "traceback": [
      "\u001b[0;31m---------------------------------------------------------------------------\u001b[0m",
      "\u001b[0;31mTypeError\u001b[0m                                 Traceback (most recent call last)",
      "\u001b[0;32m<ipython-input-3-6bd9c57a0e5c>\u001b[0m in \u001b[0;36m<module>\u001b[0;34m()\u001b[0m\n\u001b[0;32m----> 1\u001b[0;31m \u001b[0mwin\u001b[0m\u001b[1;33m(\u001b[0m\u001b[0mrock\u001b[0m\u001b[1;33m,\u001b[0m \u001b[0mpaper\u001b[0m\u001b[1;33m)\u001b[0m\u001b[1;33m\u001b[0m\u001b[0m\n\u001b[0m",
      "\u001b[0;31mTypeError\u001b[0m: win() missing 1 required positional argument: 'c'"
     ]
    }
   ],
   "source": [
    "win(rock, paper)"
   ]
  }
 ],
 "metadata": {
  "kernelspec": {
   "display_name": "Python 3",
   "language": "python",
   "name": "python3"
  },
  "language_info": {
   "codemirror_mode": {
    "name": "ipython",
    "version": 3
   },
   "file_extension": ".py",
   "mimetype": "text/x-python",
   "name": "python",
   "nbconvert_exporter": "python",
   "pygments_lexer": "ipython3",
   "version": "3.6.0"
  }
 },
 "nbformat": 4,
 "nbformat_minor": 2
}
